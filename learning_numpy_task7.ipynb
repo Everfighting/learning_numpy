{
 "cells": [
  {
   "cell_type": "code",
   "execution_count": 2,
   "metadata": {},
   "outputs": [],
   "source": [
    "# 随机抽样\n",
    "\n",
    "# numpy.random 随机抽样"
   ]
  },
  {
   "cell_type": "code",
   "execution_count": 4,
   "metadata": {},
   "outputs": [],
   "source": [
    "import numpy\n",
    "numpy.random.seed(10)"
   ]
  },
  {
   "cell_type": "code",
   "execution_count": 5,
   "metadata": {},
   "outputs": [],
   "source": [
    "# 二项分布\n",
    "# numpy.random.binomial(n, p, size=None)"
   ]
  },
  {
   "cell_type": "code",
   "execution_count": 7,
   "metadata": {},
   "outputs": [],
   "source": [
    "%matplotlib inline"
   ]
  },
  {
   "cell_type": "code",
   "execution_count": 8,
   "metadata": {},
   "outputs": [
    {
     "name": "stdout",
     "output_type": "stream",
     "text": [
      "0.3897\n"
     ]
    },
    {
     "data": {
      "image/png": "[encoded data removed]",
      "text/plain": [
       "<Figure size 432x288 with 1 Axes>"
      ]
     },
     "metadata": {
      "needs_background": "light"
     },
     "output_type": "display_data"
    },
    {
     "name": "stdout",
     "output_type": "stream",
     "text": [
      "[0.387 0.387 0.172 0.045 0.007 0.001 0.    0.    0.    0.   ]\n"
     ]
    }
   ],
   "source": [
    "import numpy as np\n",
    "import matplotlib.pyplot as plt\n",
    "from scipy import stats\n",
    "\n",
    "np.random.seed(20200605)\n",
    "n = 9# 做某件事情的次数\n",
    "p = 0.1# 做某件事情成功的概率\n",
    "size = 50000\n",
    "x = np.random.binomial(n, p, size)\n",
    "'''或者使用binom.rvs\n",
    "#使用binom.rvs(n, p, size=1)函数模拟一个二项随机变量,可视化地表现概率\n",
    "y = stats.binom.rvs(n, p, size=size)#返回一个numpy.ndarray\n",
    "'''\n",
    "print(np.sum(x == 0) / size)  # 0.3897\n",
    "\n",
    "plt.hist(x)\n",
    "plt.xlabel('随机变量：成功次数')\n",
    "plt.ylabel('样本中出现的次数')\n",
    "plt.show()\n",
    "#它返回一个列表，列表中每个元素表示随机变量中对应值的概率\n",
    "s = stats.binom.pmf(range(10), n, p)\n",
    "print(np.around(s, 3))\n",
    "# [0.387 0.387 0.172 0.045 0.007 0.001 0.    0.    0.    0.   ]"
   ]
  },
  {
   "cell_type": "code",
   "execution_count": 10,
   "metadata": {},
   "outputs": [],
   "source": [
    "# 泊松分布\n",
    "# numpy.random.poisson(lam=1.0, size=None)"
   ]
  },
  {
   "cell_type": "code",
   "execution_count": 11,
   "metadata": {},
   "outputs": [
    {
     "name": "stdout",
     "output_type": "stream",
     "text": [
      "0.14988\n"
     ]
    },
    {
     "data": {
      "image/png": "[encoded data removed]",
      "text/plain": [
       "<Figure size 432x288 with 1 Axes>"
      ]
     },
     "metadata": {
      "needs_background": "light"
     },
     "output_type": "display_data"
    },
    {
     "name": "stdout",
     "output_type": "stream",
     "text": [
      "0.14900277967433773\n"
     ]
    }
   ],
   "source": [
    "import numpy as np\n",
    "from scipy import stats\n",
    "import matplotlib.pyplot as plt\n",
    "\n",
    "np.random.seed(20200605)\n",
    "lam = 42 / 6# 平均值：平均每十分钟接到42/6次订票电话\n",
    "size = 50000\n",
    "x = np.random.poisson(lam, size)\n",
    "'''或者\n",
    "#模拟服从泊松分布的50000个随机变量\n",
    "x = stats.poisson.rvs(lam,size=size)\n",
    "'''\n",
    "print(np.sum(x == 6) / size)  # 0.14988\n",
    "\n",
    "plt.hist(x)\n",
    "plt.xlabel('随机变量：每十分钟接到订票电话的次数')\n",
    "plt.ylabel('50000个样本中出现的次数')\n",
    "plt.show()\n",
    "#用poisson.pmf(k, mu)求对应分布的概率:概率质量函数 (PMF)\n",
    "x = stats.poisson.pmf(6, lam)\n",
    "print(x)  # 0.14900277967433773"
   ]
  },
  {
   "cell_type": "code",
   "execution_count": 12,
   "metadata": {},
   "outputs": [
    {
     "name": "stdout",
     "output_type": "stream",
     "text": [
      "0.198664\n"
     ]
    },
    {
     "data": {
      "image/png": "[encoded data removed]",
      "text/plain": [
       "<Figure size 432x288 with 1 Axes>"
      ]
     },
     "metadata": {
      "needs_background": "light"
     },
     "output_type": "display_data"
    }
   ],
   "source": [
    "# 超几何分布\n",
    "# numpy.random.hypergeometric(ngood, nbad, nsample, size=None)\n",
    "import numpy as np\n",
    "from scipy import stats\n",
    "import matplotlib.pyplot as plt\n",
    "\n",
    "np.random.seed(20200605)\n",
    "size = 500000\n",
    "x = np.random.hypergeometric(ngood=7, nbad=13, nsample=12, size=size)\n",
    "'''或者\n",
    "#用rvs(M, n, N, loc=0, size=1, random_state=None)模拟\n",
    "x = stats.hypergeom.rvs(M=20,n=7,N=12,size=size)\n",
    "'''\n",
    "print(np.sum(x == 3) / size)  # 0.198664\n",
    "\n",
    "plt.hist(x, bins=8)\n",
    "plt.xlabel('狗的数量')\n",
    "plt.ylabel('50000个样本中出现的次数')\n",
    "plt.title('超几何分布',fontsize=20)\n",
    "plt.show()"
   ]
  },
  {
   "cell_type": "code",
   "execution_count": 13,
   "metadata": {},
   "outputs": [],
   "source": [
    "# 均匀分布\n",
    "# numpy.random.uniform(low=0.0, high=1.0, size=None)"
   ]
  },
  {
   "cell_type": "code",
   "execution_count": 14,
   "metadata": {},
   "outputs": [
    {
     "name": "stdout",
     "output_type": "stream",
     "text": [
      "True\n",
      "True\n",
      "0.40144\n"
     ]
    },
    {
     "data": {
      "image/png": "[encoded data removed]",
      "text/plain": [
       "<Figure size 432x288 with 1 Axes>"
      ]
     },
     "metadata": {
      "needs_background": "light"
     },
     "output_type": "display_data"
    },
    {
     "name": "stdout",
     "output_type": "stream",
     "text": [
      "0.4\n"
     ]
    }
   ],
   "source": [
    "import numpy as np\n",
    "import matplotlib.pyplot as plt\n",
    "from scipy import stats\n",
    "\n",
    "np.random.seed(20200614)\n",
    "a = 0\n",
    "b = 100\n",
    "size = 50000\n",
    "x = np.random.uniform(a, b, size=size)\n",
    "print(np.all(x >= 0))  # True\n",
    "print(np.all(x < 100))  # True\n",
    "y = (np.sum(x < 50) - np.sum(x < 10)) / size\n",
    "print(y)  # 0.40144\n",
    "\n",
    "plt.hist(x, bins=20)\n",
    "plt.show()\n",
    "\n",
    "a = stats.uniform.cdf(10, 0, 100)\n",
    "b = stats.uniform.cdf(50, 0, 100)\n",
    "print(b - a)  # 0.4"
   ]
  },
  {
   "cell_type": "code",
   "execution_count": 15,
   "metadata": {},
   "outputs": [],
   "source": [
    "# 产生均匀分布随机数\n",
    "# numpy.random.rand(d0, d1, ..., dn)"
   ]
  },
  {
   "cell_type": "code",
   "execution_count": 16,
   "metadata": {},
   "outputs": [
    {
     "name": "stdout",
     "output_type": "stream",
     "text": [
      "0.7594819171852776\n",
      "[0.75165827 0.16552651 0.0538581  0.46671446 0.89076925]\n",
      "[[0.10073292 0.14624784 0.40273923]\n",
      " [0.21844459 0.22226682 0.37246217]\n",
      " [0.50334257 0.01714939 0.47780388]\n",
      " [0.08755349 0.86500477 0.70566398]]\n",
      "0.7594819171852776\n",
      "[0.75165827 0.16552651 0.0538581  0.46671446 0.89076925]\n",
      "[[0.10073292 0.14624784 0.40273923]\n",
      " [0.21844459 0.22226682 0.37246217]\n",
      " [0.50334257 0.01714939 0.47780388]\n",
      " [0.08755349 0.86500477 0.70566398]]\n"
     ]
    }
   ],
   "source": [
    "import numpy as np\n",
    "\n",
    "np.random.seed(20200614)\n",
    "print(np.random.rand())\n",
    "# 0.7594819171852776\n",
    "\n",
    "print(np.random.rand(5))\n",
    "# [0.75165827 0.16552651 0.0538581  0.46671446 0.89076925]\n",
    "\n",
    "print(np.random.rand(4, 3))\n",
    "# [[0.10073292 0.14624784 0.40273923]\n",
    "#  [0.21844459 0.22226682 0.37246217]\n",
    "#  [0.50334257 0.01714939 0.47780388]\n",
    "#  [0.08755349 0.86500477 0.70566398]]\n",
    "\n",
    "np.random.seed(20200614)\n",
    "print(np.random.uniform())  # 0.7594819171852776\n",
    "print(np.random.uniform(size=5))\n",
    "# [0.75165827 0.16552651 0.0538581  0.46671446 0.89076925]\n",
    "\n",
    "print(np.random.uniform(size=(4, 3)))\n",
    "# [[0.10073292 0.14624784 0.40273923]\n",
    "#  [0.21844459 0.22226682 0.37246217]\n",
    "#  [0.50334257 0.01714939 0.47780388]\n",
    "#  [0.08755349 0.86500477 0.70566398]]"
   ]
  },
  {
   "cell_type": "code",
   "execution_count": 17,
   "metadata": {},
   "outputs": [],
   "source": [
    "# 作为`uniform`的另一特例，可以得到`[low,high)`之间均匀分布的随机整数。\n",
    "# numpy.random.randint(low, high=None, size=None, dtype='l')"
   ]
  },
  {
   "cell_type": "code",
   "execution_count": 18,
   "metadata": {},
   "outputs": [
    {
     "name": "stdout",
     "output_type": "stream",
     "text": [
      "[0 0 0 1 0 1 0 0 0 0]\n",
      "[0 0 0 0 0 0 0 0 0 0]\n",
      "[[3 3 0 1]\n",
      " [1 1 0 1]]\n",
      "[[2 1 7 7]\n",
      " [7 2 4 6]\n",
      " [8 7 2 8]]\n"
     ]
    }
   ],
   "source": [
    "import numpy as np\n",
    "\n",
    "np.random.seed(20200614)\n",
    "x = np.random.randint(2, size=10)\n",
    "print(x)\n",
    "# [0 0 0 1 0 1 0 0 0 0]\n",
    "\n",
    "x = np.random.randint(1, size=10)\n",
    "print(x)\n",
    "# [0 0 0 0 0 0 0 0 0 0]\n",
    "\n",
    "x = np.random.randint(5, size=(2, 4))\n",
    "print(x)\n",
    "# [[3 3 0 1]\n",
    "#  [1 1 0 1]]\n",
    "\n",
    "x = np.random.randint(1, 10, [3, 4])\n",
    "print(x)\n",
    "# [[2 1 7 7]\n",
    "#  [7 2 4 6]\n",
    "#  [8 7 2 8]]"
   ]
  },
  {
   "cell_type": "code",
   "execution_count": 19,
   "metadata": {},
   "outputs": [],
   "source": [
    "# 正态分布\n",
    "# numpy.random.randn(d0, d1, ..., dn)"
   ]
  },
  {
   "cell_type": "code",
   "execution_count": 20,
   "metadata": {},
   "outputs": [
    {
     "name": "stdout",
     "output_type": "stream",
     "text": [
      "0.68596\n",
      "0.95456\n",
      "0.99744\n"
     ]
    },
    {
     "data": {
      "image/png": "[encoded data removed]",
      "text/plain": [
       "<Figure size 432x288 with 1 Axes>"
      ]
     },
     "metadata": {
      "needs_background": "light"
     },
     "output_type": "display_data"
    },
    {
     "name": "stdout",
     "output_type": "stream",
     "text": [
      "0.6826894921370859\n",
      "0.9544997361036416\n",
      "0.9973002039367398\n"
     ]
    }
   ],
   "source": [
    "import numpy as np\n",
    "import matplotlib.pyplot as plt\n",
    "from scipy import stats\n",
    "\n",
    "np.random.seed(20200614)\n",
    "size = 50000\n",
    "x = np.random.randn(size)\n",
    "y1 = (np.sum(x < 1) - np.sum(x < -1)) / size\n",
    "y2 = (np.sum(x < 2) - np.sum(x < -2)) / size\n",
    "y3 = (np.sum(x < 3) - np.sum(x < -3)) / size\n",
    "print(y1)  # 0.68596\n",
    "print(y2)  # 0.95456\n",
    "print(y3)  # 0.99744\n",
    "\n",
    "plt.hist(x, bins=20)\n",
    "plt.show()\n",
    "\n",
    "y1 = stats.norm.cdf(1) - stats.norm.cdf(-1)\n",
    "y2 = stats.norm.cdf(2) - stats.norm.cdf(-2)\n",
    "y3 = stats.norm.cdf(3) - stats.norm.cdf(-3)\n",
    "print(y1)  # 0.6826894921370859\n",
    "print(y2)  # 0.9544997361036416\n",
    "print(y3)  # 0.9973002039367398"
   ]
  },
  {
   "cell_type": "code",
   "execution_count": 21,
   "metadata": {},
   "outputs": [],
   "source": [
    "# 还可以指定分布以及所需参数来进行随机，例如高斯分布中的mu和sigma。\n",
    "# numpy.random.normal(loc=0.0, scale=1.0, size=None)"
   ]
  },
  {
   "cell_type": "code",
   "execution_count": 22,
   "metadata": {},
   "outputs": [
    {
     "name": "stdout",
     "output_type": "stream",
     "text": [
      "[[5.39654234 5.4088702  5.49104652 4.95817289]\n",
      " [4.31977933 4.76502391 4.70720327 4.36239023]]\n",
      "[[5.39654234 5.4088702  5.49104652 4.95817289]\n",
      " [4.31977933 4.76502391 4.70720327 4.36239023]]\n",
      "4.996403463175092\n",
      "0.4986846716715106\n"
     ]
    }
   ],
   "source": [
    "import numpy as np\n",
    "import matplotlib.pyplot as plt\n",
    "\n",
    "np.random.seed(20200614)\n",
    "x = 0.5 * np.random.randn(2, 4) + 5\n",
    "'''或者\n",
    "#模拟10000个随机变量\n",
    "x = 0.5*stats.norm.rvs(size=(2,4))+5\n",
    "'''\n",
    "print(x)\n",
    "# [[5.39654234 5.4088702  5.49104652 4.95817289]\n",
    "#  [4.31977933 4.76502391 4.70720327 4.36239023]]\n",
    "\n",
    "np.random.seed(20200614)\n",
    "mu = 5#平均值\n",
    "sigma = 0.5#标准差\n",
    "x = np.random.normal(mu, sigma, (2, 4))\n",
    "print(x)\n",
    "# [[5.39654234 5.4088702  5.49104652 4.95817289]\n",
    "#  [4.31977933 4.76502391 4.70720327 4.36239023]]\n",
    "\n",
    "size = 50000\n",
    "x = np.random.normal(mu, sigma, size)\n",
    "\n",
    "print(np.mean(x))  # 4.996403463175092\n",
    "print(np.std(x, ddof=1))  # 0.4986846716715106（#样本标准差）"
   ]
  },
  {
   "cell_type": "code",
   "execution_count": 23,
   "metadata": {},
   "outputs": [
    {
     "data": {
      "image/png": "[encoded data removed]",
      "text/plain": [
       "<Figure size 432x288 with 1 Axes>"
      ]
     },
     "metadata": {
      "needs_background": "light"
     },
     "output_type": "display_data"
    }
   ],
   "source": [
    "plt.hist(x, bins=20)\n",
    "plt.show()"
   ]
  },
  {
   "cell_type": "code",
   "execution_count": 24,
   "metadata": {},
   "outputs": [],
   "source": [
    "# 指数分布\n",
    "# numpy.random.exponential(scale=1.0, size=None)"
   ]
  },
  {
   "cell_type": "code",
   "execution_count": 25,
   "metadata": {},
   "outputs": [],
   "source": [
    "import numpy as np\n",
    "import matplotlib.pyplot as plt\n",
    "from scipy import stats\n",
    "\n",
    "np.random.seed(20200614)\n",
    "lam = 7\n",
    "size = 50000\n",
    "x = np.random.exponential(1 / lam, size)"
   ]
  },
  {
   "cell_type": "code",
   "execution_count": 26,
   "metadata": {},
   "outputs": [
    {
     "name": "stdout",
     "output_type": "stream",
     "text": [
      "0.63218\n",
      "0.86518\n",
      "0.95056\n"
     ]
    },
    {
     "data": {
      "image/png": "[encoded data removed]",
      "text/plain": [
       "<Figure size 432x288 with 1 Axes>"
      ]
     },
     "metadata": {
      "needs_background": "light"
     },
     "output_type": "display_data"
    },
    {
     "name": "stdout",
     "output_type": "stream",
     "text": [
      "0.6321205588285577\n",
      "0.8646647167633873\n",
      "0.950212931632136\n"
     ]
    }
   ],
   "source": [
    "y1 = (np.sum(x < 1 / 7)) / size\n",
    "y2 = (np.sum(x < 2 / 7)) / size\n",
    "y3 = (np.sum(x < 3 / 7)) / size\n",
    "print(y1)  # 0.63218\n",
    "print(y2)  # 0.86518\n",
    "print(y3)  # 0.95056\n",
    "\n",
    "plt.hist(x, bins=20)\n",
    "plt.show()\n",
    "\n",
    "y1 = stats.expon.cdf(1 / 7, scale=1 / lam)\n",
    "y2 = stats.expon.cdf(2 / 7, scale=1 / lam)\n",
    "y3 = stats.expon.cdf(3 / 7, scale=1 / lam)\n",
    "print(y1)  # 0.6321205588285577\n",
    "print(y2)  # 0.8646647167633873\n",
    "print(y3)  # 0.950212931632136"
   ]
  },
  {
   "cell_type": "code",
   "execution_count": 27,
   "metadata": {},
   "outputs": [],
   "source": [
    "# 随机从序列中获取元素\n",
    "# numpy.random.choice(a, size=None, replace=True, p=None)"
   ]
  },
  {
   "cell_type": "code",
   "execution_count": 28,
   "metadata": {},
   "outputs": [
    {
     "name": "stdout",
     "output_type": "stream",
     "text": [
      "[2 0 1]\n",
      "[3 2 3]\n",
      "[3 0 2]\n",
      "['pooh' 'rabbit' 'pooh' 'pooh' 'pooh']\n",
      "[2 0 1]\n"
     ]
    }
   ],
   "source": [
    "import numpy as np\n",
    "\n",
    "np.random.seed(20200614)\n",
    "x = np.random.choice(10, 3)\n",
    "print(x)  # [2 0 1]\n",
    "\n",
    "x = np.random.choice(10, 3, p=[0.05, 0, 0.05, 0.9, 0, 0, 0, 0, 0, 0])\n",
    "print(x)  # [3 2 3]\n",
    "\n",
    "x = np.random.choice(10, 3, replace=False, p=[0.05, 0, 0.05, 0.9, 0, 0, 0, 0, 0, 0])\n",
    "print(x)  # [3 0 2]\n",
    "\n",
    "aa_milne_arr = ['pooh', 'rabbit', 'piglet', 'Christopher']\n",
    "x = np.random.choice(aa_milne_arr, 5, p=[0.5, 0.1, 0.1, 0.3])\n",
    "print(x) # ['pooh' 'rabbit' 'pooh' 'pooh' 'pooh']\n",
    "\n",
    "np.random.seed(20200614)\n",
    "x = np.random.randint(0, 10, 3)\n",
    "print(x)  # [2 0 1]"
   ]
  },
  {
   "cell_type": "code",
   "execution_count": 29,
   "metadata": {},
   "outputs": [],
   "source": [
    "# 对数据集进行洗牌操作\n",
    "# numpy.random.shuffle(x)"
   ]
  },
  {
   "cell_type": "code",
   "execution_count": 30,
   "metadata": {},
   "outputs": [
    {
     "name": "stdout",
     "output_type": "stream",
     "text": [
      "[6 8 7 5 3 9 1 4 0 2]\n",
      "None\n",
      "[[ 0  1  2  3]\n",
      " [ 4  5  6  7]\n",
      " [ 8  9 10 11]\n",
      " [12 13 14 15]\n",
      " [16 17 18 19]]\n",
      "[[ 8  9 10 11]\n",
      " [ 0  1  2  3]\n",
      " [12 13 14 15]\n",
      " [16 17 18 19]\n",
      " [ 4  5  6  7]]\n"
     ]
    }
   ],
   "source": [
    "import numpy as np\n",
    "\n",
    "np.random.seed(20200614)\n",
    "x = np.arange(10)\n",
    "np.random.shuffle(x)\n",
    "print(x)\n",
    "# [6 8 7 5 3 9 1 4 0 2]\n",
    "\n",
    "print(np.random.shuffle([1, 4, 9, 12, 15]))\n",
    "# None\n",
    "\n",
    "x = np.arange(20).reshape((5, 4))\n",
    "print(x)\n",
    "# [[ 0  1  2  3]\n",
    "#  [ 4  5  6  7]\n",
    "#  [ 8  9 10 11]\n",
    "#  [12 13 14 15]\n",
    "#  [16 17 18 19]]\n",
    "\n",
    "np.random.shuffle(x)\n",
    "print(x)\n",
    "# [[ 4  5  6  7]\n",
    "#  [ 0  1  2  3]\n",
    "#  [ 8  9 10 11]\n",
    "#  [16 17 18 19]\n",
    "#  [12 13 14 15]]"
   ]
  },
  {
   "cell_type": "code",
   "execution_count": 31,
   "metadata": {},
   "outputs": [],
   "source": [
    "# 可以打乱第0轴的数据，但是它不会改变原来的数组\n",
    "# numpy.random.permutation(x)"
   ]
  },
  {
   "cell_type": "code",
   "execution_count": 32,
   "metadata": {},
   "outputs": [
    {
     "name": "stdout",
     "output_type": "stream",
     "text": [
      "[6 8 7 5 3 9 1 4 0 2]\n",
      "[ 4  1  9 15 12]\n",
      "[[ 0  1  2  3]\n",
      " [ 4  5  6  7]\n",
      " [ 8  9 10 11]\n",
      " [12 13 14 15]\n",
      " [16 17 18 19]]\n",
      "[[ 8  9 10 11]\n",
      " [ 0  1  2  3]\n",
      " [12 13 14 15]\n",
      " [16 17 18 19]\n",
      " [ 4  5  6  7]]\n"
     ]
    }
   ],
   "source": [
    "import numpy as np\n",
    "\n",
    "np.random.seed(20200614)\n",
    "x = np.arange(10)\n",
    "y = np.random.permutation(x)\n",
    "print(y)\n",
    "# [6 8 7 5 3 9 1 4 0 2]\n",
    "\n",
    "print(np.random.permutation([1, 4, 9, 12, 15]))\n",
    "# [ 4  1  9 15 12]\n",
    "\n",
    "x = np.arange(20).reshape((5, 4))\n",
    "print(x)\n",
    "# [[ 0  1  2  3]\n",
    "#  [ 4  5  6  7]\n",
    "#  [ 8  9 10 11]\n",
    "#  [12 13 14 15]\n",
    "#  [16 17 18 19]]\n",
    "\n",
    "y = np.random.permutation(x)\n",
    "print(y)\n",
    "# [[ 8  9 10 11]\n",
    "#  [ 0  1  2  3]\n",
    "#  [12 13 14 15]\n",
    "#  [16 17 18 19]\n",
    "#  [ 4  5  6  7]]"
   ]
  },
  {
   "cell_type": "code",
   "execution_count": null,
   "metadata": {},
   "outputs": [],
   "source": []
  }
 ],
 "metadata": {
  "kernelspec": {
   "display_name": "Python [conda env:root] *",
   "language": "python",
   "name": "conda-root-py"
  },
  "language_info": {
   "codemirror_mode": {
    "name": "ipython",
    "version": 3
   },
   "file_extension": ".py",
   "mimetype": "text/x-python",
   "name": "python",
   "nbconvert_exporter": "python",
   "pygments_lexer": "ipython3",
   "version": "3.7.1"
  }
 },
 "nbformat": 4,
 "nbformat_minor": 2
}
